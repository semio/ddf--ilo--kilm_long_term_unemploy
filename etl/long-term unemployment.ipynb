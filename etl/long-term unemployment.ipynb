{
 "cells": [
  {
   "cell_type": "code",
   "execution_count": 1,
   "metadata": {
    "collapsed": true
   },
   "outputs": [],
   "source": [
    "import pandas as pd\n",
    "import numpy as np\n",
    "import os\n",
    "\n",
    "from ddf_utils.str import to_concept_id\n",
    "from ddf_utils.index import create_index_file"
   ]
  },
  {
   "cell_type": "code",
   "execution_count": null,
   "metadata": {
    "collapsed": true
   },
   "outputs": [],
   "source": []
  },
  {
   "cell_type": "code",
   "execution_count": 2,
   "metadata": {
    "collapsed": true
   },
   "outputs": [],
   "source": [
    "source = 'source/kilm11.xlsx'"
   ]
  },
  {
   "cell_type": "code",
   "execution_count": 3,
   "metadata": {
    "collapsed": true
   },
   "outputs": [],
   "source": [
    "data = pd.read_excel(source, skiprows=2)"
   ]
  },
  {
   "cell_type": "code",
   "execution_count": null,
   "metadata": {
    "collapsed": true
   },
   "outputs": [],
   "source": []
  },
  {
   "cell_type": "code",
   "execution_count": 4,
   "metadata": {
    "collapsed": false,
    "scrolled": true
   },
   "outputs": [
    {
     "data": {
      "text/html": [
       "<div>\n",
       "<table border=\"1\" class=\"dataframe\">\n",
       "  <thead>\n",
       "    <tr style=\"text-align: right;\">\n",
       "      <th></th>\n",
       "      <th>Country (code)</th>\n",
       "      <th>Country</th>\n",
       "      <th>Region</th>\n",
       "      <th>Sub-region (broad)</th>\n",
       "      <th>Sub-region (detailed)</th>\n",
       "      <th>Income group (code)</th>\n",
       "      <th>Income group</th>\n",
       "      <th>B</th>\n",
       "      <th>Year</th>\n",
       "      <th>Sex (code)</th>\n",
       "      <th>...</th>\n",
       "      <th>Repository</th>\n",
       "      <th>Type of source (code)</th>\n",
       "      <th>Type of source</th>\n",
       "      <th>Coverage (code)</th>\n",
       "      <th>Coverage</th>\n",
       "      <th>Reference period</th>\n",
       "      <th>Geographic limitation</th>\n",
       "      <th>Coverage limitation</th>\n",
       "      <th>Survey limitation</th>\n",
       "      <th>Remark</th>\n",
       "    </tr>\n",
       "  </thead>\n",
       "  <tbody>\n",
       "    <tr>\n",
       "      <th>0</th>\n",
       "      <td>ALB</td>\n",
       "      <td>Albania</td>\n",
       "      <td>Europe and Central Asia</td>\n",
       "      <td>Northern, Southern and Western Europe</td>\n",
       "      <td>Southern Europe</td>\n",
       "      <td>III</td>\n",
       "      <td>Upper-middle income</td>\n",
       "      <td>NaN</td>\n",
       "      <td>2009</td>\n",
       "      <td>MF</td>\n",
       "      <td>...</td>\n",
       "      <td>ILOSTAT, online database</td>\n",
       "      <td>LFS</td>\n",
       "      <td>Labour force survey</td>\n",
       "      <td>C</td>\n",
       "      <td>Civilian</td>\n",
       "      <td>Noncalendar year</td>\n",
       "      <td>NaN</td>\n",
       "      <td>Excluding institutional population</td>\n",
       "      <td>NaN</td>\n",
       "      <td>NaN</td>\n",
       "    </tr>\n",
       "    <tr>\n",
       "      <th>1</th>\n",
       "      <td>ALB</td>\n",
       "      <td>Albania</td>\n",
       "      <td>Europe and Central Asia</td>\n",
       "      <td>Northern, Southern and Western Europe</td>\n",
       "      <td>Southern Europe</td>\n",
       "      <td>III</td>\n",
       "      <td>Upper-middle income</td>\n",
       "      <td>NaN</td>\n",
       "      <td>2009</td>\n",
       "      <td>MF</td>\n",
       "      <td>...</td>\n",
       "      <td>ILOSTAT, online database</td>\n",
       "      <td>LFS</td>\n",
       "      <td>Labour force survey</td>\n",
       "      <td>C</td>\n",
       "      <td>Civilian</td>\n",
       "      <td>Noncalendar year</td>\n",
       "      <td>NaN</td>\n",
       "      <td>Excluding institutional population</td>\n",
       "      <td>NaN</td>\n",
       "      <td>NaN</td>\n",
       "    </tr>\n",
       "    <tr>\n",
       "      <th>2</th>\n",
       "      <td>ALB</td>\n",
       "      <td>Albania</td>\n",
       "      <td>Europe and Central Asia</td>\n",
       "      <td>Northern, Southern and Western Europe</td>\n",
       "      <td>Southern Europe</td>\n",
       "      <td>III</td>\n",
       "      <td>Upper-middle income</td>\n",
       "      <td>NaN</td>\n",
       "      <td>2009</td>\n",
       "      <td>MF</td>\n",
       "      <td>...</td>\n",
       "      <td>ILOSTAT, online database</td>\n",
       "      <td>LFS</td>\n",
       "      <td>Labour force survey</td>\n",
       "      <td>C</td>\n",
       "      <td>Civilian</td>\n",
       "      <td>Noncalendar year</td>\n",
       "      <td>NaN</td>\n",
       "      <td>Excluding institutional population</td>\n",
       "      <td>NaN</td>\n",
       "      <td>NaN</td>\n",
       "    </tr>\n",
       "    <tr>\n",
       "      <th>3</th>\n",
       "      <td>ALB</td>\n",
       "      <td>Albania</td>\n",
       "      <td>Europe and Central Asia</td>\n",
       "      <td>Northern, Southern and Western Europe</td>\n",
       "      <td>Southern Europe</td>\n",
       "      <td>III</td>\n",
       "      <td>Upper-middle income</td>\n",
       "      <td>NaN</td>\n",
       "      <td>2009</td>\n",
       "      <td>M</td>\n",
       "      <td>...</td>\n",
       "      <td>ILOSTAT, online database</td>\n",
       "      <td>LFS</td>\n",
       "      <td>Labour force survey</td>\n",
       "      <td>C</td>\n",
       "      <td>Civilian</td>\n",
       "      <td>Noncalendar year</td>\n",
       "      <td>NaN</td>\n",
       "      <td>Excluding institutional population</td>\n",
       "      <td>NaN</td>\n",
       "      <td>NaN</td>\n",
       "    </tr>\n",
       "    <tr>\n",
       "      <th>4</th>\n",
       "      <td>ALB</td>\n",
       "      <td>Albania</td>\n",
       "      <td>Europe and Central Asia</td>\n",
       "      <td>Northern, Southern and Western Europe</td>\n",
       "      <td>Southern Europe</td>\n",
       "      <td>III</td>\n",
       "      <td>Upper-middle income</td>\n",
       "      <td>NaN</td>\n",
       "      <td>2009</td>\n",
       "      <td>M</td>\n",
       "      <td>...</td>\n",
       "      <td>ILOSTAT, online database</td>\n",
       "      <td>LFS</td>\n",
       "      <td>Labour force survey</td>\n",
       "      <td>C</td>\n",
       "      <td>Civilian</td>\n",
       "      <td>Noncalendar year</td>\n",
       "      <td>NaN</td>\n",
       "      <td>Excluding institutional population</td>\n",
       "      <td>NaN</td>\n",
       "      <td>NaN</td>\n",
       "    </tr>\n",
       "  </tbody>\n",
       "</table>\n",
       "<p>5 rows × 30 columns</p>\n",
       "</div>"
      ],
      "text/plain": [
       "  Country (code)  Country                   Region  \\\n",
       "0            ALB  Albania  Europe and Central Asia   \n",
       "1            ALB  Albania  Europe and Central Asia   \n",
       "2            ALB  Albania  Europe and Central Asia   \n",
       "3            ALB  Albania  Europe and Central Asia   \n",
       "4            ALB  Albania  Europe and Central Asia   \n",
       "\n",
       "                      Sub-region (broad) Sub-region (detailed)  \\\n",
       "0  Northern, Southern and Western Europe       Southern Europe   \n",
       "1  Northern, Southern and Western Europe       Southern Europe   \n",
       "2  Northern, Southern and Western Europe       Southern Europe   \n",
       "3  Northern, Southern and Western Europe       Southern Europe   \n",
       "4  Northern, Southern and Western Europe       Southern Europe   \n",
       "\n",
       "  Income group (code)         Income group    B  Year Sex (code)  ...    \\\n",
       "0                 III  Upper-middle income  NaN  2009         MF  ...     \n",
       "1                 III  Upper-middle income  NaN  2009         MF  ...     \n",
       "2                 III  Upper-middle income  NaN  2009         MF  ...     \n",
       "3                 III  Upper-middle income  NaN  2009          M  ...     \n",
       "4                 III  Upper-middle income  NaN  2009          M  ...     \n",
       "\n",
       "                 Repository Type of source (code)       Type of source  \\\n",
       "0  ILOSTAT, online database                   LFS  Labour force survey   \n",
       "1  ILOSTAT, online database                   LFS  Labour force survey   \n",
       "2  ILOSTAT, online database                   LFS  Labour force survey   \n",
       "3  ILOSTAT, online database                   LFS  Labour force survey   \n",
       "4  ILOSTAT, online database                   LFS  Labour force survey   \n",
       "\n",
       "  Coverage (code)  Coverage  Reference period  Geographic limitation  \\\n",
       "0               C  Civilian  Noncalendar year                    NaN   \n",
       "1               C  Civilian  Noncalendar year                    NaN   \n",
       "2               C  Civilian  Noncalendar year                    NaN   \n",
       "3               C  Civilian  Noncalendar year                    NaN   \n",
       "4               C  Civilian  Noncalendar year                    NaN   \n",
       "\n",
       "                  Coverage limitation  Survey limitation Remark  \n",
       "0  Excluding institutional population                NaN    NaN  \n",
       "1  Excluding institutional population                NaN    NaN  \n",
       "2  Excluding institutional population                NaN    NaN  \n",
       "3  Excluding institutional population                NaN    NaN  \n",
       "4  Excluding institutional population                NaN    NaN  \n",
       "\n",
       "[5 rows x 30 columns]"
      ]
     },
     "execution_count": 4,
     "metadata": {},
     "output_type": "execute_result"
    }
   ],
   "source": [
    "data.head()"
   ]
  },
  {
   "cell_type": "code",
   "execution_count": 24,
   "metadata": {
    "collapsed": false
   },
   "outputs": [
    {
     "data": {
      "text/plain": [
       "Index(['Country (code)', 'Country', 'Region', 'Sub-region (broad)',\n",
       "       'Sub-region (detailed)', 'Income group (code)', 'Income group', 'B',\n",
       "       'Year', 'Sex (code)', 'Sex', 'Age group (code)', 'Age group', 'Age',\n",
       "       'Long-term unemployed ('000)', 'Total unemployed ('000)',\n",
       "       'Labour force ('000)', 'Long-term unemployment rate (%)',\n",
       "       'Incidence of long-term unemployment (%)', 'Repository (code)',\n",
       "       'Repository', 'Type of source (code)', 'Type of source',\n",
       "       'Coverage (code)', 'Coverage', 'Reference period',\n",
       "       'Geographic limitation', 'Coverage limitation', 'Survey limitation',\n",
       "       'Remark'],\n",
       "      dtype='object')"
      ]
     },
     "execution_count": 24,
     "metadata": {},
     "output_type": "execute_result"
    }
   ],
   "source": [
    "data.columns"
   ]
  },
  {
   "cell_type": "code",
   "execution_count": null,
   "metadata": {
    "collapsed": true
   },
   "outputs": [],
   "source": []
  },
  {
   "cell_type": "code",
   "execution_count": 5,
   "metadata": {
    "collapsed": true
   },
   "outputs": [],
   "source": [
    "# country"
   ]
  },
  {
   "cell_type": "code",
   "execution_count": 6,
   "metadata": {
    "collapsed": true
   },
   "outputs": [],
   "source": [
    "country = data[['Country (code)', 'Country']].drop_duplicates().copy()"
   ]
  },
  {
   "cell_type": "code",
   "execution_count": 7,
   "metadata": {
    "collapsed": true
   },
   "outputs": [],
   "source": [
    "country.columns = ['country', 'name']"
   ]
  },
  {
   "cell_type": "code",
   "execution_count": 8,
   "metadata": {
    "collapsed": true
   },
   "outputs": [],
   "source": [
    "country['country'] = country['country'].map(to_concept_id)"
   ]
  },
  {
   "cell_type": "code",
   "execution_count": 9,
   "metadata": {
    "collapsed": true
   },
   "outputs": [],
   "source": [
    "country.to_csv('../ddf--entities--country.csv', index=False)"
   ]
  },
  {
   "cell_type": "code",
   "execution_count": null,
   "metadata": {
    "collapsed": true
   },
   "outputs": [],
   "source": []
  },
  {
   "cell_type": "code",
   "execution_count": 11,
   "metadata": {
    "collapsed": true
   },
   "outputs": [],
   "source": [
    "# age group"
   ]
  },
  {
   "cell_type": "code",
   "execution_count": 17,
   "metadata": {
    "collapsed": false
   },
   "outputs": [],
   "source": [
    "age = data[['Age group (code)', 'Age group']].drop_duplicates().copy()\n",
    "age.columns = ['age_group', 'name']\n",
    "age['name'] = 'Age ' + age['name']\n",
    "age['age_group'] = age['age_group'].map(to_concept_id)"
   ]
  },
  {
   "cell_type": "code",
   "execution_count": 18,
   "metadata": {
    "collapsed": false
   },
   "outputs": [
    {
     "data": {
      "text/html": [
       "<div>\n",
       "<table border=\"1\" class=\"dataframe\">\n",
       "  <thead>\n",
       "    <tr style=\"text-align: right;\">\n",
       "      <th></th>\n",
       "      <th>age_group</th>\n",
       "      <th>name</th>\n",
       "    </tr>\n",
       "  </thead>\n",
       "  <tbody>\n",
       "    <tr>\n",
       "      <th>0</th>\n",
       "      <td>total</td>\n",
       "      <td>Age 15+</td>\n",
       "    </tr>\n",
       "    <tr>\n",
       "      <th>1</th>\n",
       "      <td>youth</td>\n",
       "      <td>Age 15-24</td>\n",
       "    </tr>\n",
       "    <tr>\n",
       "      <th>2</th>\n",
       "      <td>adult</td>\n",
       "      <td>Age 25+</td>\n",
       "    </tr>\n",
       "  </tbody>\n",
       "</table>\n",
       "</div>"
      ],
      "text/plain": [
       "  age_group       name\n",
       "0     total    Age 15+\n",
       "1     youth  Age 15-24\n",
       "2     adult    Age 25+"
      ]
     },
     "execution_count": 18,
     "metadata": {},
     "output_type": "execute_result"
    }
   ],
   "source": [
    "age"
   ]
  },
  {
   "cell_type": "code",
   "execution_count": 19,
   "metadata": {
    "collapsed": true
   },
   "outputs": [],
   "source": [
    "age.to_csv('../ddf--entities--age_group.csv', index=False)"
   ]
  },
  {
   "cell_type": "code",
   "execution_count": null,
   "metadata": {
    "collapsed": true
   },
   "outputs": [],
   "source": []
  },
  {
   "cell_type": "code",
   "execution_count": null,
   "metadata": {
    "collapsed": true
   },
   "outputs": [],
   "source": []
  },
  {
   "cell_type": "code",
   "execution_count": 20,
   "metadata": {
    "collapsed": true
   },
   "outputs": [],
   "source": [
    "# sex"
   ]
  },
  {
   "cell_type": "code",
   "execution_count": 21,
   "metadata": {
    "collapsed": true
   },
   "outputs": [],
   "source": [
    "sex = data[['Sex (code)', 'Sex']].drop_duplicates().copy()\n",
    "sex.columns = ['sex', 'name']\n",
    "\n",
    "sex['sex'] = sex['sex'].map(to_concept_id)\n",
    "\n",
    "sex.to_csv('../ddf--entities--sex.csv', index=False)\n"
   ]
  },
  {
   "cell_type": "code",
   "execution_count": 22,
   "metadata": {
    "collapsed": false
   },
   "outputs": [
    {
     "data": {
      "text/html": [
       "<div>\n",
       "<table border=\"1\" class=\"dataframe\">\n",
       "  <thead>\n",
       "    <tr style=\"text-align: right;\">\n",
       "      <th></th>\n",
       "      <th>sex</th>\n",
       "      <th>name</th>\n",
       "    </tr>\n",
       "  </thead>\n",
       "  <tbody>\n",
       "    <tr>\n",
       "      <th>0</th>\n",
       "      <td>mf</td>\n",
       "      <td>Male and female</td>\n",
       "    </tr>\n",
       "    <tr>\n",
       "      <th>3</th>\n",
       "      <td>m</td>\n",
       "      <td>Male</td>\n",
       "    </tr>\n",
       "    <tr>\n",
       "      <th>6</th>\n",
       "      <td>f</td>\n",
       "      <td>Female</td>\n",
       "    </tr>\n",
       "  </tbody>\n",
       "</table>\n",
       "</div>"
      ],
      "text/plain": [
       "  sex             name\n",
       "0  mf  Male and female\n",
       "3   m             Male\n",
       "6   f           Female"
      ]
     },
     "execution_count": 22,
     "metadata": {},
     "output_type": "execute_result"
    }
   ],
   "source": [
    "sex"
   ]
  },
  {
   "cell_type": "code",
   "execution_count": null,
   "metadata": {
    "collapsed": true
   },
   "outputs": [],
   "source": []
  },
  {
   "cell_type": "code",
   "execution_count": null,
   "metadata": {
    "collapsed": true
   },
   "outputs": [],
   "source": []
  },
  {
   "cell_type": "code",
   "execution_count": 23,
   "metadata": {
    "collapsed": true
   },
   "outputs": [],
   "source": [
    "# concepts"
   ]
  },
  {
   "cell_type": "code",
   "execution_count": 27,
   "metadata": {
    "collapsed": true
   },
   "outputs": [],
   "source": [
    "discs = ['Name', 'Year', 'Country', 'Sex', 'Age Group']\n",
    "\n",
    "conc = data.columns[14:19]"
   ]
  },
  {
   "cell_type": "code",
   "execution_count": 26,
   "metadata": {
    "collapsed": false
   },
   "outputs": [
    {
     "data": {
      "text/plain": [
       "Index(['Long-term unemployed ('000)', 'Total unemployed ('000)',\n",
       "       'Labour force ('000)', 'Long-term unemployment rate (%)',\n",
       "       'Incidence of long-term unemployment (%)'],\n",
       "      dtype='object')"
      ]
     },
     "execution_count": 26,
     "metadata": {},
     "output_type": "execute_result"
    }
   ],
   "source": [
    "conc"
   ]
  },
  {
   "cell_type": "code",
   "execution_count": 28,
   "metadata": {
    "collapsed": true
   },
   "outputs": [],
   "source": [
    "cdf = pd.DataFrame([], columns=['concept', 'name', 'concept_type'])\n",
    "\n",
    "cdf['name'] = [*discs, *conc]\n",
    "\n",
    "cdf['concept'] = cdf['name'].map(to_concept_id)"
   ]
  },
  {
   "cell_type": "code",
   "execution_count": 29,
   "metadata": {
    "collapsed": true
   },
   "outputs": [],
   "source": [
    "cdf.loc[5:, 'concept_type'] = 'measure'\n",
    "cdf.loc[0, 'concept_type'] = 'string'\n",
    "cdf.loc[1, 'concept_type'] = 'time'\n",
    "cdf.loc[2:4, 'concept_type'] = 'entity_domain'\n"
   ]
  },
  {
   "cell_type": "code",
   "execution_count": 30,
   "metadata": {
    "collapsed": false
   },
   "outputs": [
    {
     "data": {
      "text/html": [
       "<div>\n",
       "<table border=\"1\" class=\"dataframe\">\n",
       "  <thead>\n",
       "    <tr style=\"text-align: right;\">\n",
       "      <th></th>\n",
       "      <th>concept</th>\n",
       "      <th>name</th>\n",
       "      <th>concept_type</th>\n",
       "    </tr>\n",
       "  </thead>\n",
       "  <tbody>\n",
       "    <tr>\n",
       "      <th>0</th>\n",
       "      <td>name</td>\n",
       "      <td>Name</td>\n",
       "      <td>string</td>\n",
       "    </tr>\n",
       "    <tr>\n",
       "      <th>1</th>\n",
       "      <td>year</td>\n",
       "      <td>Year</td>\n",
       "      <td>time</td>\n",
       "    </tr>\n",
       "    <tr>\n",
       "      <th>2</th>\n",
       "      <td>country</td>\n",
       "      <td>Country</td>\n",
       "      <td>entity_domain</td>\n",
       "    </tr>\n",
       "    <tr>\n",
       "      <th>3</th>\n",
       "      <td>sex</td>\n",
       "      <td>Sex</td>\n",
       "      <td>entity_domain</td>\n",
       "    </tr>\n",
       "    <tr>\n",
       "      <th>4</th>\n",
       "      <td>age_group</td>\n",
       "      <td>Age Group</td>\n",
       "      <td>entity_domain</td>\n",
       "    </tr>\n",
       "    <tr>\n",
       "      <th>5</th>\n",
       "      <td>long_term_unemployed_000</td>\n",
       "      <td>Long-term unemployed ('000)</td>\n",
       "      <td>measure</td>\n",
       "    </tr>\n",
       "    <tr>\n",
       "      <th>6</th>\n",
       "      <td>total_unemployed_000</td>\n",
       "      <td>Total unemployed ('000)</td>\n",
       "      <td>measure</td>\n",
       "    </tr>\n",
       "    <tr>\n",
       "      <th>7</th>\n",
       "      <td>labour_force_000</td>\n",
       "      <td>Labour force ('000)</td>\n",
       "      <td>measure</td>\n",
       "    </tr>\n",
       "    <tr>\n",
       "      <th>8</th>\n",
       "      <td>long_term_unemployment_rate</td>\n",
       "      <td>Long-term unemployment rate (%)</td>\n",
       "      <td>measure</td>\n",
       "    </tr>\n",
       "    <tr>\n",
       "      <th>9</th>\n",
       "      <td>incidence_of_long_term_unemployment</td>\n",
       "      <td>Incidence of long-term unemployment (%)</td>\n",
       "      <td>measure</td>\n",
       "    </tr>\n",
       "  </tbody>\n",
       "</table>\n",
       "</div>"
      ],
      "text/plain": [
       "                               concept  \\\n",
       "0                                 name   \n",
       "1                                 year   \n",
       "2                              country   \n",
       "3                                  sex   \n",
       "4                            age_group   \n",
       "5             long_term_unemployed_000   \n",
       "6                 total_unemployed_000   \n",
       "7                     labour_force_000   \n",
       "8          long_term_unemployment_rate   \n",
       "9  incidence_of_long_term_unemployment   \n",
       "\n",
       "                                      name   concept_type  \n",
       "0                                     Name         string  \n",
       "1                                     Year           time  \n",
       "2                                  Country  entity_domain  \n",
       "3                                      Sex  entity_domain  \n",
       "4                                Age Group  entity_domain  \n",
       "5              Long-term unemployed ('000)        measure  \n",
       "6                  Total unemployed ('000)        measure  \n",
       "7                      Labour force ('000)        measure  \n",
       "8          Long-term unemployment rate (%)        measure  \n",
       "9  Incidence of long-term unemployment (%)        measure  "
      ]
     },
     "execution_count": 30,
     "metadata": {},
     "output_type": "execute_result"
    }
   ],
   "source": [
    "cdf"
   ]
  },
  {
   "cell_type": "code",
   "execution_count": 31,
   "metadata": {
    "collapsed": true
   },
   "outputs": [],
   "source": [
    "cdf.to_csv('../ddf--concepts.csv', index=False)"
   ]
  },
  {
   "cell_type": "code",
   "execution_count": null,
   "metadata": {
    "collapsed": true
   },
   "outputs": [],
   "source": []
  },
  {
   "cell_type": "code",
   "execution_count": null,
   "metadata": {
    "collapsed": true
   },
   "outputs": [],
   "source": [
    "# datapoints"
   ]
  },
  {
   "cell_type": "code",
   "execution_count": 35,
   "metadata": {
    "collapsed": true
   },
   "outputs": [],
   "source": [
    "dps = data[['Country (code)', 'Sex (code)', 'Age group (code)','Year', *conc]].copy()"
   ]
  },
  {
   "cell_type": "code",
   "execution_count": 36,
   "metadata": {
    "collapsed": true
   },
   "outputs": [],
   "source": [
    "dps.columns = ['country', 'sex', 'age_group', 'year', *[to_concept_id(x) for x in conc]]"
   ]
  },
  {
   "cell_type": "code",
   "execution_count": 37,
   "metadata": {
    "collapsed": false
   },
   "outputs": [],
   "source": [
    "dps['country'] = dps['country'].map(to_concept_id)\n",
    "dps['sex'] = dps['sex'].map(to_concept_id)\n",
    "dps['age_group'] = dps['age_group'].map(to_concept_id)"
   ]
  },
  {
   "cell_type": "code",
   "execution_count": 40,
   "metadata": {
    "collapsed": false
   },
   "outputs": [],
   "source": [
    "dps = dps.set_index(['country', 'sex', 'age_group', 'year'])"
   ]
  },
  {
   "cell_type": "code",
   "execution_count": 43,
   "metadata": {
    "collapsed": true
   },
   "outputs": [],
   "source": [
    "\n",
    "for k, df in dps.items():\n",
    "    df_ = df.reset_index().dropna()\n",
    "    path = '../ddf--datapoints--{}--by--country--sex--age_group--year.csv'.format(k)\n",
    "    df_.to_csv(path, index=False)"
   ]
  },
  {
   "cell_type": "code",
   "execution_count": null,
   "metadata": {
    "collapsed": true
   },
   "outputs": [],
   "source": []
  },
  {
   "cell_type": "code",
   "execution_count": null,
   "metadata": {
    "collapsed": true
   },
   "outputs": [],
   "source": []
  },
  {
   "cell_type": "code",
   "execution_count": 42,
   "metadata": {
    "collapsed": false
   },
   "outputs": [
    {
     "data": {
      "text/html": [
       "<div>\n",
       "<table border=\"1\" class=\"dataframe\">\n",
       "  <thead>\n",
       "    <tr style=\"text-align: right;\">\n",
       "      <th></th>\n",
       "      <th>key</th>\n",
       "      <th>value</th>\n",
       "      <th>file</th>\n",
       "    </tr>\n",
       "  </thead>\n",
       "  <tbody>\n",
       "    <tr>\n",
       "      <th>0</th>\n",
       "      <td>concept</td>\n",
       "      <td>name</td>\n",
       "      <td>ddf--concepts.csv</td>\n",
       "    </tr>\n",
       "    <tr>\n",
       "      <th>1</th>\n",
       "      <td>concept</td>\n",
       "      <td>concept_type</td>\n",
       "      <td>ddf--concepts.csv</td>\n",
       "    </tr>\n",
       "    <tr>\n",
       "      <th>0</th>\n",
       "      <td>country,sex,age_group,year</td>\n",
       "      <td>incidence_of_long_term_unemployment</td>\n",
       "      <td>ddf--datapoints--incidence_of_long_term_unempl...</td>\n",
       "    </tr>\n",
       "    <tr>\n",
       "      <th>0</th>\n",
       "      <td>country,sex,age_group,year</td>\n",
       "      <td>labour_force_000</td>\n",
       "      <td>ddf--datapoints--labour_force_000--by--country...</td>\n",
       "    </tr>\n",
       "    <tr>\n",
       "      <th>0</th>\n",
       "      <td>country,sex,age_group,year</td>\n",
       "      <td>long_term_unemployed_000</td>\n",
       "      <td>ddf--datapoints--long_term_unemployed_000--by-...</td>\n",
       "    </tr>\n",
       "    <tr>\n",
       "      <th>0</th>\n",
       "      <td>country,sex,age_group,year</td>\n",
       "      <td>long_term_unemployment_rate</td>\n",
       "      <td>ddf--datapoints--long_term_unemployment_rate--...</td>\n",
       "    </tr>\n",
       "    <tr>\n",
       "      <th>0</th>\n",
       "      <td>country,sex,age_group,year</td>\n",
       "      <td>total_unemployed_000</td>\n",
       "      <td>ddf--datapoints--total_unemployed_000--by--cou...</td>\n",
       "    </tr>\n",
       "    <tr>\n",
       "      <th>0</th>\n",
       "      <td>age_group</td>\n",
       "      <td>name</td>\n",
       "      <td>ddf--entities--age_group.csv</td>\n",
       "    </tr>\n",
       "    <tr>\n",
       "      <th>0</th>\n",
       "      <td>country</td>\n",
       "      <td>name</td>\n",
       "      <td>ddf--entities--country.csv</td>\n",
       "    </tr>\n",
       "    <tr>\n",
       "      <th>0</th>\n",
       "      <td>sex</td>\n",
       "      <td>name</td>\n",
       "      <td>ddf--entities--sex.csv</td>\n",
       "    </tr>\n",
       "  </tbody>\n",
       "</table>\n",
       "</div>"
      ],
      "text/plain": [
       "                          key                                value  \\\n",
       "0                     concept                                 name   \n",
       "1                     concept                         concept_type   \n",
       "0  country,sex,age_group,year  incidence_of_long_term_unemployment   \n",
       "0  country,sex,age_group,year                     labour_force_000   \n",
       "0  country,sex,age_group,year             long_term_unemployed_000   \n",
       "0  country,sex,age_group,year          long_term_unemployment_rate   \n",
       "0  country,sex,age_group,year                 total_unemployed_000   \n",
       "0                   age_group                                 name   \n",
       "0                     country                                 name   \n",
       "0                         sex                                 name   \n",
       "\n",
       "                                                file  \n",
       "0                                  ddf--concepts.csv  \n",
       "1                                  ddf--concepts.csv  \n",
       "0  ddf--datapoints--incidence_of_long_term_unempl...  \n",
       "0  ddf--datapoints--labour_force_000--by--country...  \n",
       "0  ddf--datapoints--long_term_unemployed_000--by-...  \n",
       "0  ddf--datapoints--long_term_unemployment_rate--...  \n",
       "0  ddf--datapoints--total_unemployed_000--by--cou...  \n",
       "0                       ddf--entities--age_group.csv  \n",
       "0                         ddf--entities--country.csv  \n",
       "0                             ddf--entities--sex.csv  "
      ]
     },
     "execution_count": 42,
     "metadata": {},
     "output_type": "execute_result"
    }
   ],
   "source": [
    "create_index_file('../')"
   ]
  },
  {
   "cell_type": "code",
   "execution_count": null,
   "metadata": {
    "collapsed": true
   },
   "outputs": [],
   "source": []
  },
  {
   "cell_type": "code",
   "execution_count": null,
   "metadata": {
    "collapsed": true
   },
   "outputs": [],
   "source": []
  }
 ],
 "metadata": {
  "kernelspec": {
   "display_name": "Python 3",
   "language": "python",
   "name": "python3"
  },
  "language_info": {
   "codemirror_mode": {
    "name": "ipython",
    "version": 3
   },
   "file_extension": ".py",
   "mimetype": "text/x-python",
   "name": "python",
   "nbconvert_exporter": "python",
   "pygments_lexer": "ipython3",
   "version": "3.5.1"
  }
 },
 "nbformat": 4,
 "nbformat_minor": 0
}
